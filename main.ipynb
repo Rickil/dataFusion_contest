{
 "cells": [
  {
   "cell_type": "code",
   "execution_count": 1,
   "id": "d8b1af22",
   "metadata": {},
   "outputs": [],
   "source": [
    "import numpy as np\n",
    "import matplotlib.pyplot as plt\n",
    "import scipy as sp\n",
    "from scipy import io"
   ]
  },
  {
   "cell_type": "code",
   "execution_count": 2,
   "id": "a749d4b8",
   "metadata": {},
   "outputs": [],
   "source": [
    "data = sp.io.loadmat('data/2013_DFC_contest.mat')"
   ]
  },
  {
   "cell_type": "code",
   "execution_count": 35,
   "id": "191b4802",
   "metadata": {},
   "outputs": [],
   "source": [
    "rgb_bands = [54,32,18]\n",
    "hsi_rgb = data['hyper'][:,:,rgb_bands]\n",
    "hsi_rgb = hsi_rgb/hsi_rgb.max()\n",
    "\n",
    "pmin,pmax = np.percentile(hsi_rgb,(1,95),axis=(0,1))\n",
    "hsi_rgb_pimped = hsi_rgb.copy()\n",
    "for i in range(pmin.size):\n",
    "    hsi_rgb_pimped[:,:,i] = (hsi_rgb[:,:,i]-pmin[i])/(pmax[i]-pmin[i])\n",
    "hsi_rgb_pimped[hsi_rgb_pimped<0] = 0\n",
    "hsi_rgb_pimped[hsi_rgb_pimped>1] = 1"
   ]
  },
  {
   "cell_type": "code",
   "execution_count": 3,
   "id": "eb78f092",
   "metadata": {},
   "outputs": [],
   "source": [
    "groundtruth = np.load('groundtruth/groundtruth.npy')\n",
    "groundtruth_info = np.load('groundtruth/groundtruth_info.npy',allow_pickle=True)\n",
    "groundtruth_rgb = plt.imread('groundtruth/groundtruth.png')"
   ]
  },
  {
   "cell_type": "code",
   "execution_count": 4,
   "id": "ae4af5b3",
   "metadata": {},
   "outputs": [
    {
     "data": {
      "text/plain": [
       "array([{'class_name': 'grass_healthy', 'class_label': 1, 'class_color': array([  0, 205,   0])},\n",
       "       {'class_name': 'grass_stressed', 'class_label': 2, 'class_color': array([127, 255,   0])},\n",
       "       {'class_name': 'grass_synthetic', 'class_label': 3, 'class_color': array([ 46, 205,  87])},\n",
       "       {'class_name': 'tree', 'class_label': 4, 'class_color': array([  0, 139,   0])},\n",
       "       {'class_name': 'soil', 'class_label': 5, 'class_color': array([160,  82,  45])},\n",
       "       {'class_name': 'water', 'class_label': 6, 'class_color': array([  0, 255, 255])},\n",
       "       {'class_name': 'residential', 'class_label': 7, 'class_color': array([255, 255, 255])},\n",
       "       {'class_name': 'commercial', 'class_label': 8, 'class_color': array([216, 191, 216])},\n",
       "       {'class_name': 'road', 'class_label': 9, 'class_color': array([255,   0,   0])},\n",
       "       {'class_name': 'highway', 'class_label': 10, 'class_color': array([139,   0,   0])},\n",
       "       {'class_name': 'railway', 'class_label': 11, 'class_color': array([100, 100, 100])},\n",
       "       {'class_name': 'parking_lot1', 'class_label': 12, 'class_color': array([255, 255,   0])},\n",
       "       {'class_name': 'parking_lot2', 'class_label': 13, 'class_color': array([238, 154,   0])},\n",
       "       {'class_name': 'tennis_court', 'class_label': 14, 'class_color': array([ 85,  26, 139])},\n",
       "       {'class_name': 'running_track', 'class_label': 15, 'class_color': array([255, 127,  80])}],\n",
       "      dtype=object)"
      ]
     },
     "execution_count": 4,
     "metadata": {},
     "output_type": "execute_result"
    }
   ],
   "source": [
    "groundtruth_info"
   ]
  },
  {
   "cell_type": "code",
   "execution_count": 240,
   "id": "42698d1c",
   "metadata": {},
   "outputs": [
    {
     "name": "stdout",
     "output_type": "stream",
     "text": [
      "L'image LiDAR est composée de 349 lignes et 1905 colonnes au format float32\n",
      "L'image hyperspectrale est composée de 349 lignes, 1905 colonnes et 144 bandes au format uint16\n"
     ]
    }
   ],
   "source": [
    "lidar = data['lidar']\n",
    "print(\"L'image LiDAR est composée de %d lignes et %d colonnes \"%(lidar.shape)+\"au format %s\"%lidar.dtype)\n",
    "hsi_raw = data['hyper']\n",
    "print(\"L'image hyperspectrale est composée de %d lignes, %d colonnes et %d bandes \"%(hsi_raw.shape)\n",
    "      +\"au format %s\"%hsi_raw.dtype)"
   ]
  },
  {
   "cell_type": "code",
   "execution_count": 241,
   "id": "f95569b3",
   "metadata": {},
   "outputs": [
    {
     "data": {
      "text/plain": [
       "((349, 1905), (349, 1905))"
      ]
     },
     "execution_count": 241,
     "metadata": {},
     "output_type": "execute_result"
    }
   ],
   "source": [
    "lidar.shape, groundtruth.shape"
   ]
  },
  {
   "cell_type": "code",
   "execution_count": 243,
   "id": "930c3797",
   "metadata": {},
   "outputs": [
    {
     "name": "stdout",
     "output_type": "stream",
     "text": [
      "lidar max:  49.42812\n",
      "hsi_raw max:  65497\n"
     ]
    },
    {
     "data": {
      "text/plain": [
       "((221615, 145), (1189, 144), (1189,), (1189, 145), (1189,))"
      ]
     },
     "execution_count": 243,
     "metadata": {},
     "output_type": "execute_result"
    }
   ],
   "source": [
    "from sklearn.preprocessing import MinMaxScaler, StandardScaler\n",
    "\n",
    "# normalize the data\n",
    "scaler = MinMaxScaler()\n",
    "\n",
    "hsi_raw = hsi_raw[:,:635,:]\n",
    "lidar = lidar[:,:635]\n",
    "r,c,N = hsi_raw.shape\n",
    "hsi = hsi_raw.reshape(r*c,N)\n",
    "\n",
    "#fusion lidar and hsi for the whole image\n",
    "allData = np.concatenate((hsi, lidar.reshape(-1, 1)), axis=1)\n",
    "\n",
    "# we take only pixels with a grountruth known\n",
    "hsi_train = hsi_raw[groundtruth[:,:635] != 0]\n",
    "lidar_train = lidar[groundtruth[:,:635] != 0]\n",
    "\n",
    "#normalize training sets\n",
    "#lidar_train = lidar_train/lidar.max()\n",
    "#hsi_train = hsi_train / hsi_raw.max()\n",
    "\n",
    "print(\"lidar max: \", lidar.max())\n",
    "print(\"hsi_raw max: \", hsi_raw.max())\n",
    "\n",
    "# fusion lidar and hsi sets\n",
    "x_train = np.concatenate((hsi_train, lidar_train.reshape(-1, 1)), axis=1)\n",
    "y_train = groundtruth[:,:635][groundtruth[:,:635] != 0]\n",
    "\n",
    "#check shapes\n",
    "allData.shape, hsi_train.shape, lidar_train.shape, x_train.shape, y_train.shape"
   ]
  },
  {
   "cell_type": "code",
   "execution_count": 244,
   "id": "4fdc250c",
   "metadata": {},
   "outputs": [],
   "source": [
    "#chose the training set and the image type\n",
    "x_train = hsi_train\n",
    "toPredict = hsi"
   ]
  },
  {
   "cell_type": "code",
   "execution_count": 245,
   "id": "3681d441",
   "metadata": {},
   "outputs": [
    {
     "name": "stdout",
     "output_type": "stream",
     "text": [
      "x_train shape: (951, 144)\n",
      "y_train shape: (951,)\n",
      "x_val shape: (238, 144)\n",
      "y_val shape: (238,)\n"
     ]
    }
   ],
   "source": [
    "#### from sklearn.model_selection import train_test_split\n",
    "from sklearn.model_selection import train_test_split\n",
    "\n",
    "\n",
    "# Split the dataset into training and validation sets\n",
    "x_train, x_val, y_train, y_val = train_test_split(x_train, y_train, test_size=0.2, stratify=y_train)\n",
    "\n",
    "# Print the shape of the resulting training and validation sets\n",
    "print(\"x_train shape:\", x_train.shape)\n",
    "print(\"y_train shape:\", y_train.shape)\n",
    "print(\"x_val shape:\", x_val.shape)\n",
    "print(\"y_val shape:\", y_val.shape)"
   ]
  },
  {
   "cell_type": "code",
   "execution_count": 257,
   "id": "9b1d2d37",
   "metadata": {},
   "outputs": [
    {
     "name": "stdout",
     "output_type": "stream",
     "text": [
      "Validation set score: 0.9411764705882353\n"
     ]
    }
   ],
   "source": [
    "from sklearn.svm import LinearSVC\n",
    "from sklearn.ensemble import RandomForestClassifier\n",
    "\n",
    "\n",
    "#classifier = LinearSVC(random_state=1, max_iter=10000)\n",
    "classifier = RandomForestClassifier(max_depth=20, random_state=1)\n",
    "classifier = classifier.fit(x_train, y_train)\n",
    "\n",
    "# evaluate the model on the validation set y_val\n",
    "score = classifier.score(x_val, y_val)\n",
    "print(\"Validation set score:\", score)"
   ]
  },
  {
   "cell_type": "code",
   "execution_count": 268,
   "id": "b1f3a85b",
   "metadata": {},
   "outputs": [
    {
     "name": "stdout",
     "output_type": "stream",
     "text": [
      "(221615,)\n"
     ]
    },
    {
     "data": {
      "image/png": "[encoded data removed]",
      "text/plain": [
       "<Figure size 500x500 with 1 Axes>"
      ]
     },
     "metadata": {},
     "output_type": "display_data"
    },
    {
     "ename": "IndexError",
     "evalue": "index 15 is out of bounds for axis 0 with size 15",
     "output_type": "error",
     "traceback": [
      "\u001b[0;31m---------------------------------------------------------------------------\u001b[0m",
      "\u001b[0;31mIndexError\u001b[0m                                Traceback (most recent call last)",
      "Cell \u001b[0;32mIn[268], line 18\u001b[0m\n\u001b[1;32m     15\u001b[0m plt\u001b[38;5;241m.\u001b[39mshow()\n\u001b[1;32m     17\u001b[0m \u001b[38;5;28;01mfor\u001b[39;00m i \u001b[38;5;129;01min\u001b[39;00m \u001b[38;5;28mrange\u001b[39m(\u001b[38;5;28mlen\u001b[39m(prediction)):\n\u001b[0;32m---> 18\u001b[0m     predictionRgb[i] \u001b[38;5;241m=\u001b[39m \u001b[43mcls_rgb\u001b[49m\u001b[43m[\u001b[49m\u001b[43mprediction\u001b[49m\u001b[43m[\u001b[49m\u001b[43mi\u001b[49m\u001b[43m]\u001b[49m\u001b[43m]\u001b[49m\n\u001b[1;32m     19\u001b[0m \u001b[38;5;28mprint\u001b[39m(prediction)\n\u001b[1;32m     21\u001b[0m plt\u001b[38;5;241m.\u001b[39mfigure(figsize\u001b[38;5;241m=\u001b[39m(\u001b[38;5;241m20\u001b[39m,\u001b[38;5;241m5\u001b[39m))\n",
      "\u001b[0;31mIndexError\u001b[0m: index 15 is out of bounds for axis 0 with size 15"
     ]
    }
   ],
   "source": [
    "# predict for the whole image\n",
    "prediction = classifier.predict(toPredict)\n",
    "predictionRgb = np.zeros((prediction.shape[0], 3))\n",
    "print(prediction.shape)\n",
    "\n",
    "cls_rgb = []\n",
    "for ii in groundtruth_info:\n",
    "    cls_rgb.append(ii['class_color'])\n",
    "cls_rgb = np.array(cls_rgb).reshape(15,-1,3)\n",
    "plt.figure(figsize=(5,5))\n",
    "plt.imshow(cls_rgb)\n",
    "plt.axis('off')\n",
    "for cls in range(15):\n",
    "        plt.text(0.85,1.02*cls,'Classe %d : %s'%(cls+1,groundtruth_info[cls]['class_name']))\n",
    "plt.show()\n",
    "\n",
    "for i in range(len(prediction)):\n",
    "    predictionRgb[i] = cls_rgb[prediction[i]]\n",
    "print(prediction)\n",
    "\n",
    "plt.figure(figsize=(20,5))\n",
    "plt.title('carte de prediction')\n",
    "plt.imshow(prediction.reshape((349,635)))\n",
    "plt.show()\n",
    "\n",
    "plt.figure(figsize=(20,5))\n",
    "plt.imshow(hsi_rgb_pimped[:,:635])\n",
    "plt.show()"
   ]
  },
  {
   "cell_type": "code",
   "execution_count": null,
   "id": "59c8e523",
   "metadata": {},
   "outputs": [],
   "source": []
  }
 ],
 "metadata": {
  "kernelspec": {
   "display_name": "Python 3 (ipykernel)",
   "language": "python",
   "name": "python3"
  },
  "language_info": {
   "codemirror_mode": {
    "name": "ipython",
    "version": 3
   },
   "file_extension": ".py",
   "mimetype": "text/x-python",
   "name": "python",
   "nbconvert_exporter": "python",
   "pygments_lexer": "ipython3",
   "version": "3.10.10"
  }
 },
 "nbformat": 4,
 "nbformat_minor": 5
}
